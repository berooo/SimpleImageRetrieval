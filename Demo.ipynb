{
 "cells": [
  {
   "cell_type": "code",
   "execution_count": 10,
   "metadata": {
    "collapsed": false
   },
   "outputs": [
    {
     "name": "stdout",
     "output_type": "stream",
     "text": [
      "WARNING:tensorflow:From <ipython-input-10-0b83b4103bf9>:5: read_data_sets (from tensorflow.contrib.learn.python.learn.datasets.mnist) is deprecated and will be removed in a future version.\n",
      "Instructions for updating:\n",
      "Please use alternatives such as official/mnist/dataset.py from tensorflow/models.\n",
      "WARNING:tensorflow:From C:\\Users\\石宝荣\\AppData\\Roaming\\Python\\Python35\\site-packages\\tensorflow\\contrib\\learn\\python\\learn\\datasets\\mnist.py:260: maybe_download (from tensorflow.contrib.learn.python.learn.datasets.base) is deprecated and will be removed in a future version.\n",
      "Instructions for updating:\n",
      "Please write your own downloading logic.\n",
      "WARNING:tensorflow:From C:\\Users\\石宝荣\\AppData\\Roaming\\Python\\Python35\\site-packages\\tensorflow\\contrib\\learn\\python\\learn\\datasets\\mnist.py:262: extract_images (from tensorflow.contrib.learn.python.learn.datasets.mnist) is deprecated and will be removed in a future version.\n",
      "Instructions for updating:\n",
      "Please use tf.data to implement this functionality.\n",
      "Extracting MNIST_data/train-images-idx3-ubyte.gz\n",
      "WARNING:tensorflow:From C:\\Users\\石宝荣\\AppData\\Roaming\\Python\\Python35\\site-packages\\tensorflow\\contrib\\learn\\python\\learn\\datasets\\mnist.py:267: extract_labels (from tensorflow.contrib.learn.python.learn.datasets.mnist) is deprecated and will be removed in a future version.\n",
      "Instructions for updating:\n",
      "Please use tf.data to implement this functionality.\n",
      "Extracting MNIST_data/train-labels-idx1-ubyte.gz\n",
      "WARNING:tensorflow:From C:\\Users\\石宝荣\\AppData\\Roaming\\Python\\Python35\\site-packages\\tensorflow\\contrib\\learn\\python\\learn\\datasets\\mnist.py:110: dense_to_one_hot (from tensorflow.contrib.learn.python.learn.datasets.mnist) is deprecated and will be removed in a future version.\n",
      "Instructions for updating:\n",
      "Please use tf.one_hot on tensors.\n",
      "Extracting MNIST_data/t10k-images-idx3-ubyte.gz\n",
      "Extracting MNIST_data/t10k-labels-idx1-ubyte.gz\n",
      "WARNING:tensorflow:From C:\\Users\\石宝荣\\AppData\\Roaming\\Python\\Python35\\site-packages\\tensorflow\\contrib\\learn\\python\\learn\\datasets\\mnist.py:290: DataSet.__init__ (from tensorflow.contrib.learn.python.learn.datasets.mnist) is deprecated and will be removed in a future version.\n",
      "Instructions for updating:\n",
      "Please use alternatives such as official/mnist/dataset.py from tensorflow/models.\n"
     ]
    }
   ],
   "source": [
    "import tensorflow as tf\n",
    "import numpy as np\n",
    "\n",
    "from tensorflow.examples.tutorials.mnist import input_data\n",
    "mnist=input_data.read_data_sets(\"MNIST_data/\",one_hot=True)"
   ]
  },
  {
   "cell_type": "code",
   "execution_count": 11,
   "metadata": {
    "collapsed": false
   },
   "outputs": [],
   "source": [
    "#创建第一个交互式session\n",
    "sess=tf.InteractiveSession()\n",
    "\n",
    "#创建两个占位符，x为输入网络的图像，y_为输入网络的图像类别\n",
    "x=tf.placeholder(\"float\",shape=[None,784])\n",
    "y_=tf.placeholder(\"float\",shape=[None,10])\n",
    "\n",
    "#权重初始化函数\n",
    "def weight_variable(shape):\n",
    "    initial=tf.truncated_normal(shape,stddev=0.1)\n",
    "    return tf.Variable(initial)\n",
    "\n",
    "#偏置初始化函数\n",
    "def bias_variable(shape):\n",
    "    initial=tf.constant(0.1,shape=shape)\n",
    "    return tf.Variable(initial)\n",
    "\n",
    "#创建卷积op\n",
    "#x是一个4维张量，shape为[batch,height,width,channels]\n",
    "#卷积核移动步长为1。填充类型为SAME,可以不丢弃任何像素点\n",
    "def conv2d(x, W):\n",
    "    return tf.nn.conv2d(x, W, strides=[1,1,1,1], padding=\"SAME\")\n",
    "\n",
    "#创建池化op\n",
    "#采用最大池化，也就是窗口的最大值作为结果\n",
    "# x是一个4维向量，shape为[batch,height,width,channels]\n",
    "#ksize表示pool窗口大小为2*2，也就是高2，宽2\n",
    "#strides表示在height和weight维度上的步长都为2\n",
    "def max_pool_2(x):\n",
    "    return tf.nn.max_pool(x, ksize=[1,2,2,1],\n",
    "                          strides=[1,2,2,1], padding=\"SAME\")\n",
    "\n",
    "#第一层-卷积层\n",
    "#初始化W为[5,5,1,32]的张量，表示卷积核大小为5*5，第一层网络的输入和输出神经元个数分别为1和32\n",
    "W_conv1=weight_variable([5,5,1,32])\n",
    "#初始化b为[32],即输出大小\n",
    "b_conv1=bias_variable([32])\n",
    "\n",
    "#把输入x(二维张量,shape为[batch, 784])变成4d的x_image，x_image的shape应该是[batch,28,28,1]\n",
    "#-1表示自动推测这个维度的size\n",
    "x_image=tf.reshape(x,[-1,28,28,1])\n",
    "\n",
    "#把x_image和权重进行卷积，加上偏置项，然后应用ReLU激活函数，最后进行max_pooling\n",
    "#h_pool1的输出即为第一层网络输出，shape为[batch,14,14,1]\n",
    "h_conv1=tf.nn.relu(conv2d(x_image,W_conv1)+b_conv1)\n",
    "h_pool1 = max_pool_2(h_conv1)"
   ]
  },
  {
   "cell_type": "code",
   "execution_count": 12,
   "metadata": {
    "collapsed": false
   },
   "outputs": [],
   "source": [
    "#第2层，卷积层\n",
    "#卷积核大小依然是5*5，这层的输入和输出神经元个数为32和64\n",
    "W_conv2 = weight_variable([5,5,32,64])\n",
    "b_conv2 = weight_variable([64])\n",
    "\n",
    "#h_pool2即为第二层网络输出，shape为[batch,7,7,1]\n",
    "h_conv2 = tf.nn.relu(conv2d(h_pool1, W_conv2) + b_conv2)\n",
    "h_pool2 = max_pool_2(h_conv2)"
   ]
  },
  {
   "cell_type": "code",
   "execution_count": 14,
   "metadata": {
    "collapsed": false
   },
   "outputs": [
    {
     "name": "stdout",
     "output_type": "stream",
     "text": [
      "step 0, training accuracy 0.060000\n",
      "step 100, training accuracy 0.900000\n",
      "step 200, training accuracy 0.860000\n",
      "step 300, training accuracy 0.920000\n",
      "step 400, training accuracy 0.960000\n",
      "step 500, training accuracy 0.940000\n",
      "step 600, training accuracy 0.940000\n",
      "step 700, training accuracy 0.980000\n",
      "step 800, training accuracy 0.880000\n",
      "step 900, training accuracy 0.940000\n",
      "step 1000, training accuracy 0.960000\n",
      "step 1100, training accuracy 0.960000\n",
      "step 1200, training accuracy 1.000000\n",
      "step 1300, training accuracy 1.000000\n",
      "step 1400, training accuracy 1.000000\n",
      "step 1500, training accuracy 1.000000\n",
      "step 1600, training accuracy 0.980000\n",
      "step 1700, training accuracy 0.980000\n",
      "step 1800, training accuracy 0.960000\n",
      "step 1900, training accuracy 1.000000\n",
      "step 2000, training accuracy 0.980000\n",
      "step 2100, training accuracy 0.960000\n",
      "step 2200, training accuracy 1.000000\n",
      "step 2300, training accuracy 1.000000\n",
      "step 2400, training accuracy 0.980000\n",
      "step 2500, training accuracy 0.980000\n",
      "step 2600, training accuracy 1.000000\n",
      "step 2700, training accuracy 0.960000\n",
      "step 2800, training accuracy 0.980000\n",
      "step 2900, training accuracy 1.000000\n",
      "step 3000, training accuracy 0.960000\n",
      "step 3100, training accuracy 1.000000\n",
      "step 3200, training accuracy 0.980000\n",
      "step 3300, training accuracy 1.000000\n",
      "step 3400, training accuracy 1.000000\n",
      "step 3500, training accuracy 1.000000\n",
      "step 3600, training accuracy 0.960000\n",
      "step 3700, training accuracy 0.980000\n",
      "step 3800, training accuracy 0.980000\n",
      "step 3900, training accuracy 1.000000\n",
      "step 4000, training accuracy 0.980000\n",
      "step 4100, training accuracy 0.960000\n",
      "step 4200, training accuracy 1.000000\n",
      "step 4300, training accuracy 0.960000\n",
      "step 4400, training accuracy 0.980000\n",
      "step 4500, training accuracy 0.980000\n",
      "step 4600, training accuracy 1.000000\n",
      "step 4700, training accuracy 0.980000\n",
      "step 4800, training accuracy 1.000000\n",
      "step 4900, training accuracy 1.000000\n",
      "step 5000, training accuracy 1.000000\n",
      "step 5100, training accuracy 0.980000\n",
      "step 5200, training accuracy 1.000000\n",
      "step 5300, training accuracy 1.000000\n",
      "step 5400, training accuracy 0.960000\n",
      "step 5500, training accuracy 1.000000\n",
      "step 5600, training accuracy 0.980000\n",
      "step 5700, training accuracy 1.000000\n",
      "step 5800, training accuracy 1.000000\n",
      "step 5900, training accuracy 1.000000\n",
      "step 6000, training accuracy 1.000000\n",
      "step 6100, training accuracy 0.980000\n",
      "step 6200, training accuracy 0.980000\n",
      "step 6300, training accuracy 0.980000\n",
      "step 6400, training accuracy 1.000000\n",
      "step 6500, training accuracy 1.000000\n",
      "step 6600, training accuracy 0.980000\n",
      "step 6700, training accuracy 1.000000\n",
      "step 6800, training accuracy 1.000000\n",
      "step 6900, training accuracy 1.000000\n",
      "step 7000, training accuracy 1.000000\n",
      "step 7100, training accuracy 0.980000\n",
      "step 7200, training accuracy 1.000000\n",
      "step 7300, training accuracy 0.980000\n",
      "step 7400, training accuracy 0.980000\n",
      "step 7500, training accuracy 1.000000\n",
      "step 7600, training accuracy 1.000000\n",
      "step 7700, training accuracy 1.000000\n",
      "step 7800, training accuracy 0.960000\n",
      "step 7900, training accuracy 1.000000\n",
      "step 8000, training accuracy 0.980000\n",
      "step 8100, training accuracy 0.980000\n",
      "step 8200, training accuracy 1.000000\n",
      "step 8300, training accuracy 1.000000\n",
      "step 8400, training accuracy 1.000000\n",
      "step 8500, training accuracy 1.000000\n",
      "step 8600, training accuracy 1.000000\n",
      "step 8700, training accuracy 1.000000\n",
      "step 8800, training accuracy 1.000000\n",
      "step 8900, training accuracy 1.000000\n",
      "step 9000, training accuracy 1.000000\n",
      "step 9100, training accuracy 1.000000\n",
      "step 9200, training accuracy 0.980000\n",
      "step 9300, training accuracy 0.980000\n",
      "step 9400, training accuracy 1.000000\n",
      "step 9500, training accuracy 1.000000\n",
      "step 9600, training accuracy 1.000000\n",
      "step 9700, training accuracy 1.000000\n",
      "step 9800, training accuracy 1.000000\n",
      "step 9900, training accuracy 1.000000\n",
      "step 10000, training accuracy 1.000000\n",
      "step 10100, training accuracy 1.000000\n",
      "step 10200, training accuracy 1.000000\n",
      "step 10300, training accuracy 1.000000\n",
      "step 10400, training accuracy 1.000000\n",
      "step 10500, training accuracy 1.000000\n",
      "step 10600, training accuracy 1.000000\n",
      "step 10700, training accuracy 1.000000\n",
      "step 10800, training accuracy 1.000000\n",
      "step 10900, training accuracy 1.000000\n",
      "step 11000, training accuracy 0.980000\n",
      "step 11100, training accuracy 1.000000\n",
      "step 11200, training accuracy 1.000000\n",
      "step 11300, training accuracy 1.000000\n",
      "step 11400, training accuracy 1.000000\n",
      "step 11500, training accuracy 1.000000\n",
      "step 11600, training accuracy 1.000000\n",
      "step 11700, training accuracy 1.000000\n",
      "step 11800, training accuracy 1.000000\n",
      "step 11900, training accuracy 1.000000\n",
      "step 12000, training accuracy 1.000000\n",
      "step 12100, training accuracy 1.000000\n",
      "step 12200, training accuracy 1.000000\n",
      "step 12300, training accuracy 1.000000\n",
      "step 12400, training accuracy 1.000000\n",
      "step 12500, training accuracy 1.000000\n",
      "step 12600, training accuracy 1.000000\n",
      "step 12700, training accuracy 1.000000\n",
      "step 12800, training accuracy 1.000000\n",
      "step 12900, training accuracy 0.980000\n",
      "step 13000, training accuracy 0.980000\n",
      "step 13100, training accuracy 1.000000\n",
      "step 13200, training accuracy 0.980000\n",
      "step 13300, training accuracy 1.000000\n",
      "step 13400, training accuracy 1.000000\n",
      "step 13500, training accuracy 1.000000\n",
      "step 13600, training accuracy 1.000000\n",
      "step 13700, training accuracy 1.000000\n",
      "step 13800, training accuracy 1.000000\n",
      "step 13900, training accuracy 0.980000\n",
      "step 14000, training accuracy 1.000000\n",
      "step 14100, training accuracy 1.000000\n",
      "step 14200, training accuracy 1.000000\n",
      "step 14300, training accuracy 1.000000\n",
      "step 14400, training accuracy 1.000000\n",
      "step 14500, training accuracy 1.000000\n",
      "step 14600, training accuracy 1.000000\n",
      "step 14700, training accuracy 1.000000\n",
      "step 14800, training accuracy 1.000000\n",
      "step 14900, training accuracy 1.000000\n",
      "step 15000, training accuracy 0.980000\n",
      "step 15100, training accuracy 1.000000\n",
      "step 15200, training accuracy 1.000000\n",
      "step 15300, training accuracy 1.000000\n",
      "step 15400, training accuracy 1.000000\n",
      "step 15500, training accuracy 1.000000\n",
      "step 15600, training accuracy 1.000000\n",
      "step 15700, training accuracy 1.000000\n",
      "step 15800, training accuracy 1.000000\n",
      "step 15900, training accuracy 1.000000\n",
      "step 16000, training accuracy 1.000000\n",
      "step 16100, training accuracy 1.000000\n",
      "step 16200, training accuracy 1.000000\n",
      "step 16300, training accuracy 0.980000\n",
      "step 16400, training accuracy 1.000000\n",
      "step 16500, training accuracy 1.000000\n",
      "step 16600, training accuracy 1.000000\n",
      "step 16700, training accuracy 1.000000\n",
      "step 16800, training accuracy 1.000000\n",
      "step 16900, training accuracy 1.000000\n",
      "step 17000, training accuracy 1.000000\n",
      "step 17100, training accuracy 1.000000\n",
      "step 17200, training accuracy 1.000000\n",
      "step 17300, training accuracy 1.000000\n",
      "step 17400, training accuracy 1.000000\n",
      "step 17500, training accuracy 1.000000\n",
      "step 17600, training accuracy 1.000000\n",
      "step 17700, training accuracy 1.000000\n",
      "step 17800, training accuracy 1.000000\n",
      "step 17900, training accuracy 1.000000\n",
      "step 18000, training accuracy 1.000000\n",
      "step 18100, training accuracy 1.000000\n",
      "step 18200, training accuracy 1.000000\n",
      "step 18300, training accuracy 1.000000\n",
      "step 18400, training accuracy 1.000000\n",
      "step 18500, training accuracy 1.000000\n",
      "step 18600, training accuracy 0.980000\n",
      "step 18700, training accuracy 1.000000\n",
      "step 18800, training accuracy 1.000000\n",
      "step 18900, training accuracy 1.000000\n",
      "step 19000, training accuracy 1.000000\n",
      "step 19100, training accuracy 1.000000\n",
      "step 19200, training accuracy 1.000000\n",
      "step 19300, training accuracy 1.000000\n",
      "step 19400, training accuracy 1.000000\n",
      "step 19500, training accuracy 1.000000\n",
      "step 19600, training accuracy 1.000000\n",
      "step 19700, training accuracy 1.000000\n",
      "step 19800, training accuracy 1.000000\n",
      "step 19900, training accuracy 1.000000\n"
     ]
    }
   ],
   "source": [
    "#第三层 全连接层\n",
    "W_fc1=weight_variable([7*7*64,1024])\n",
    "b_fc1=bias_variable([1024])\n",
    "\n",
    "#计算前需要把第二层的输出reshape成[batch,7*7*64]的张量\n",
    "h_pool2_flat=tf.reshape(h_pool2,[-1,7*7*64])\n",
    "h_fc1=tf.nn.relu(tf.matmul(h_pool2_flat,W_fc1)+b_fc1)\n",
    "\n",
    "#Dropout层\n",
    "#为了减少过拟合，在输出层前加入dropout\n",
    "keep_prob=tf.placeholder(\"float\")\n",
    "h_fc1_drop=tf.nn.dropout(h_fc1,keep_prob)\n",
    "\n",
    "#输出层 \n",
    "#最后，添加一个softax层\n",
    "#可以理解为另一个全连接层，只不过输出时使用softmax层将网络输出值转换成了概率\n",
    "W_fc2=weight_variable([1024,10])\n",
    "b_fc2=bias_variable([10])\n",
    "\n",
    "y_conv=tf.nn.softmax(tf.matmul(h_fc1_drop,W_fc2)+b_fc2)\n",
    "#预测值与真实值之间的交叉熵\n",
    "cross_entropy=-tf.reduce_sum(y_*tf.log(y_conv))\n",
    "\n",
    "#train_op,使用Adam优化器来做梯度下降。学习率为0.0001\n",
    "train_step=tf.train.AdamOptimizer(1e-4).minimize(cross_entropy)\n",
    "correct_predict=tf.equal(tf.argmax(y_conv,1),tf.argmax(y_,1))\n",
    "\n",
    "accuracy=tf.reduce_mean(tf.cast(correct_predict,\"float\"))\n",
    "\n",
    "#初始化变量\n",
    "sess.run(tf.global_variables_initializer())\n",
    "\n",
    "#开始训练模型，循环20000次，每次随机从训练集中抓取50幅图像\n",
    "for i in range(20000):\n",
    "    batch=mnist.train.next_batch(50)\n",
    "    if i%100==0:\n",
    "        #每100次输出一次日志\n",
    "        train_accuracy=accuracy.eval(feed_dict={x:batch[0],y_:batch[1],keep_prob:1.0})\n",
    "        print( \"step %d, training accuracy %f\" % (i, train_accuracy))\n",
    "    \n",
    "    train_step.run(feed_dict={x:batch[0],y_:batch[1],keep_prob:0.5})"
   ]
  },
  {
   "cell_type": "code",
   "execution_count": 18,
   "metadata": {
    "collapsed": false
   },
   "outputs": [
    {
     "name": "stdout",
     "output_type": "stream",
     "text": [
      "Model saved in file: D:/record/LYJ.ckpt\n",
      "INFO:tensorflow:Restoring parameters from D:/record/LYJ.ckpt\n",
      "Model restored.\n"
     ]
    }
   ],
   "source": [
    "#保存权重\n",
    "saver=tf.train.Saver()\n",
    "save_path=saver.save(sess,\"D:/record/LYJ.ckpt\")\n",
    "print(\"Model saved in file:\",save_path)\n",
    "\n",
    "#加载权重\n",
    "saver=tf.train.Saver()\n",
    "saver.restore(sess,\"D:/record/LYJ.ckpt\")\n",
    "print(\"Model restored.\")"
   ]
  },
  {
   "cell_type": "code",
   "execution_count": 21,
   "metadata": {
    "collapsed": false
   },
   "outputs": [
    {
     "name": "stdout",
     "output_type": "stream",
     "text": [
      "[[0. 1. 0. 0. 0. 0. 0. 0. 0. 0.]]\n"
     ]
    }
   ],
   "source": [
    "batch2=mnist.test.next_batch(1)\n",
    "b=h_fc1.eval(feed_dict={x:batch2[0],y_:batch2[1],keep_prob:1.0})\n",
    "print(batch2[1])\n",
    "#h_fc1是全连接层的输出，eval()把特征tensor转成数组向量"
   ]
  },
  {
   "cell_type": "code",
   "execution_count": 36,
   "metadata": {
    "collapsed": false
   },
   "outputs": [],
   "source": [
    "#将测试集中所有图像都导入网络，提取特征\n",
    "count=0 #相关总数\n",
    "count1=0 #检索到相关的\n",
    "count2=0 #所有检索出来的\n",
    "\n",
    "for i in range(1):\n",
    "    batch1=mnist.test.next_batch(10000)\n",
    "    a=h_fc1.eval(feed_dict={x:batch1[0],y_:batch1[1],keep_prob:1.0})\n",
    "    B=tf.argmax(batch1[1],1).eval()\n",
    "    for j in range(10000):\n",
    "        if B[j]==7: #检索的图像为数字7\n",
    "            count+=1\n",
    "    a1=tf.reshape(batch1[0],[10000,28,28]).eval()\n",
    "    a2=255*a1\n",
    "    a3=a2.astype(np.uint64)\n",
    "    \n",
    "    for k in range(10000):\n",
    "        dist=np.linalg.norm(a[k]-b) #使用欧式距离\n",
    "        if dist<=25: #阈值25\n",
    "            count2+=1\n",
    "            if B[k]==7:\n",
    "                count1+=1\n",
    "\n",
    "R=count1/count #查全率\n",
    "P=count1/count2 #查准率"
   ]
  },
  {
   "cell_type": "code",
   "execution_count": 37,
   "metadata": {
    "collapsed": false
   },
   "outputs": [
    {
     "name": "stdout",
     "output_type": "stream",
     "text": [
      "0.13804828289697382\n"
     ]
    }
   ],
   "source": [
    "print(P)"
   ]
  },
  {
   "cell_type": "code",
   "execution_count": 38,
   "metadata": {
    "collapsed": false
   },
   "outputs": [
    {
     "name": "stdout",
     "output_type": "stream",
     "text": [
      "0.7898832684824902\n"
     ]
    }
   ],
   "source": [
    "print(R)"
   ]
  },
  {
   "cell_type": "code",
   "execution_count": null,
   "metadata": {
    "collapsed": true
   },
   "outputs": [],
   "source": []
  }
 ],
 "metadata": {
  "anaconda-cloud": {},
  "kernelspec": {
   "display_name": "Python [default]",
   "language": "python",
   "name": "python3"
  },
  "language_info": {
   "codemirror_mode": {
    "name": "ipython",
    "version": 3
   },
   "file_extension": ".py",
   "mimetype": "text/x-python",
   "name": "python",
   "nbconvert_exporter": "python",
   "pygments_lexer": "ipython3",
   "version": "3.5.2"
  }
 },
 "nbformat": 4,
 "nbformat_minor": 1
}
